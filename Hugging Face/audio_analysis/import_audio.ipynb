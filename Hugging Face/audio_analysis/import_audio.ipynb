{
  "nbformat": 4,
  "nbformat_minor": 0,
  "metadata": {
    "colab": {
      "provenance": [],
      "authorship_tag": "ABX9TyNW9HUmAhDMFQkhhIoUG0Qb",
      "include_colab_link": true
    },
    "kernelspec": {
      "name": "python3",
      "display_name": "Python 3"
    },
    "language_info": {
      "name": "python"
    }
  },
  "cells": [
    {
      "cell_type": "markdown",
      "metadata": {
        "id": "view-in-github",
        "colab_type": "text"
      },
      "source": [
        "<a href=\"https://colab.research.google.com/github/xpdlaldam/nlp/blob/master/Hugging%20Face/audio_analysis/import_audio.ipynb\" target=\"_parent\"><img src=\"https://colab.research.google.com/assets/colab-badge.svg\" alt=\"Open In Colab\"/></a>"
      ]
    },
    {
      "cell_type": "code",
      "execution_count": 1,
      "metadata": {
        "id": "vyExhDgP5OkL"
      },
      "outputs": [],
      "source": [
        "from google.colab import drive\n",
        "import os"
      ]
    },
    {
      "cell_type": "code",
      "source": [
        "drive.mount('/content/drive')"
      ],
      "metadata": {
        "colab": {
          "base_uri": "https://localhost:8080/"
        },
        "id": "ADiJExwf70cN",
        "outputId": "15df06ed-584f-407d-e42b-db6d92b739bc"
      },
      "execution_count": 4,
      "outputs": [
        {
          "output_type": "stream",
          "name": "stdout",
          "text": [
            "Mounted at /content/drive\n"
          ]
        }
      ]
    },
    {
      "cell_type": "code",
      "source": [
        "os.getcwd()"
      ],
      "metadata": {
        "colab": {
          "base_uri": "https://localhost:8080/",
          "height": 35
        },
        "id": "2j9eWTa58EPV",
        "outputId": "9a291884-6522-4bcd-bbed-f743c266b721"
      },
      "execution_count": 2,
      "outputs": [
        {
          "output_type": "execute_result",
          "data": {
            "text/plain": [
              "'/content'"
            ],
            "application/vnd.google.colaboratory.intrinsic+json": {
              "type": "string"
            }
          },
          "metadata": {},
          "execution_count": 2
        }
      ]
    },
    {
      "cell_type": "code",
      "source": [
        "os.chdir(\"drive/MyDrive/Colab Notebooks/Data/Audio\")\n",
        "os.getcwd()"
      ],
      "metadata": {
        "id": "XLG-kNr-_Nv4",
        "colab": {
          "base_uri": "https://localhost:8080/",
          "height": 35
        },
        "outputId": "28da8b25-e932-43dd-c80f-960481a1e160"
      },
      "execution_count": 5,
      "outputs": [
        {
          "output_type": "execute_result",
          "data": {
            "text/plain": [
              "'/content/drive/MyDrive/Colab Notebooks/Data/Audio'"
            ],
            "application/vnd.google.colaboratory.intrinsic+json": {
              "type": "string"
            }
          },
          "metadata": {},
          "execution_count": 5
        }
      ]
    },
    {
      "cell_type": "code",
      "source": [
        "curr_dir_files = os.listdir()\n",
        "curr_dir_files[0]"
      ],
      "metadata": {
        "colab": {
          "base_uri": "https://localhost:8080/",
          "height": 35
        },
        "id": "iU1BlPfB_xrA",
        "outputId": "3ecd046e-2b30-44c1-847f-5e717714f4d2"
      },
      "execution_count": 6,
      "outputs": [
        {
          "output_type": "execute_result",
          "data": {
            "text/plain": [
              "'wef_02484_00003859772.wav'"
            ],
            "application/vnd.google.colaboratory.intrinsic+json": {
              "type": "string"
            }
          },
          "metadata": {},
          "execution_count": 6
        }
      ]
    },
    {
      "cell_type": "markdown",
      "source": [
        "# 1. Three Ways to Read WAV Files"
      ],
      "metadata": {
        "id": "uXAge8xOsEjN"
      }
    },
    {
      "cell_type": "markdown",
      "source": [
        "## Method 1: scipy.io.wavfile"
      ],
      "metadata": {
        "id": "PiAoljf5sUbc"
      }
    },
    {
      "cell_type": "code",
      "source": [
        "from scipy.io import wavfile"
      ],
      "metadata": {
        "id": "isdBCIgAs6uG"
      },
      "execution_count": null,
      "outputs": []
    },
    {
      "cell_type": "code",
      "source": [
        "sample_rate, data = wavfile.read(curr_dir_files[0])\n",
        "\n",
        "print(f\"Sample rate: {sample_rate} Hz\")\n",
        "print(f\"Data shape: {data.shape}\")"
      ],
      "metadata": {
        "colab": {
          "base_uri": "https://localhost:8080/"
        },
        "id": "l5zUCt8s50Tr",
        "outputId": "e126ad2c-ee58-4838-ec3c-88760206514a"
      },
      "execution_count": null,
      "outputs": [
        {
          "output_type": "stream",
          "name": "stdout",
          "text": [
            "Sample rate: 48000 Hz\n",
            "Data shape: (262144,)\n"
          ]
        }
      ]
    },
    {
      "cell_type": "markdown",
      "source": [
        "## Method 2: librosa (best for audio analysis)"
      ],
      "metadata": {
        "id": "rxBcO9KksfPy"
      }
    },
    {
      "cell_type": "code",
      "source": [
        "import librosa"
      ],
      "metadata": {
        "id": "e_T5dXo4skVk"
      },
      "execution_count": 9,
      "outputs": []
    },
    {
      "cell_type": "code",
      "source": [
        "audio, sample_rate = librosa.load(curr_dir_files[0], sr=None)\n",
        "\n",
        "print(f\"Sample rate: {sample_rate} Hz\")\n",
        "print(f\"Audio shape: {audio.shape}\")"
      ],
      "metadata": {
        "colab": {
          "base_uri": "https://localhost:8080/"
        },
        "id": "dXvXaQ8HtAhj",
        "outputId": "11cc3c8e-f1cf-4159-b294-97ae3c85081e"
      },
      "execution_count": 11,
      "outputs": [
        {
          "output_type": "stream",
          "name": "stdout",
          "text": [
            "Sample rate: 48000 Hz\n",
            "Audio shape: (262144,)\n"
          ]
        }
      ]
    },
    {
      "cell_type": "markdown",
      "source": [
        "## Method 3: wave module (low-level handling)"
      ],
      "metadata": {
        "id": "pg8YdHRlth1f"
      }
    },
    {
      "cell_type": "code",
      "source": [
        "import wave\n",
        "import numpy as np\n",
        "\n",
        "with wave.open(curr_dir_files[0], \"rb\") as wav_file:\n",
        "    sample_rate = wav_file.getframerate()\n",
        "    n_frames = wav_file.getnframes()\n",
        "    audio_data = wav_file.readframes(n_frames)\n",
        "    audio_np = np.frombuffer(audio_data, dtype=np.int16)\n",
        "\n",
        "print(f\"Sample rate: {sample_rate} Hz\")\n",
        "print(f\"Number of frames: {n_frames}\")\n",
        "print(f\"Audio length: {len(audio_np)} samples\")"
      ],
      "metadata": {
        "colab": {
          "base_uri": "https://localhost:8080/"
        },
        "id": "bwzGhrnUtm2F",
        "outputId": "9b60d99d-3f1a-439b-9fd3-85004d240ee5"
      },
      "execution_count": 13,
      "outputs": [
        {
          "output_type": "stream",
          "name": "stdout",
          "text": [
            "Sample rate: 48000 Hz\n",
            "Number of frames: 262144\n",
            "Audio length: 262144 samples\n"
          ]
        }
      ]
    },
    {
      "cell_type": "markdown",
      "source": [
        "# 2. Play Audio"
      ],
      "metadata": {
        "id": "QERj7aqDuVKm"
      }
    },
    {
      "cell_type": "markdown",
      "source": [
        "## Method 1: IPython.display.Audio (best for Jupyter Notebooks)"
      ],
      "metadata": {
        "id": "OJ1__wBuucjo"
      }
    },
    {
      "cell_type": "code",
      "source": [
        "## only works in Jupyter or IPython\n",
        "from IPython.display import Audio"
      ],
      "metadata": {
        "id": "5L6xDi2VuZgA"
      },
      "execution_count": null,
      "outputs": []
    },
    {
      "cell_type": "code",
      "source": [
        "Audio(curr_dir_files[0])"
      ],
      "metadata": {
        "id": "mgki9LlLxXNZ"
      },
      "execution_count": null,
      "outputs": []
    },
    {
      "cell_type": "markdown",
      "source": [
        "## Method 2: pydub + simpleaudio (non-blocking and more control)"
      ],
      "metadata": {
        "id": "XN0SYHrKw1Cd"
      }
    },
    {
      "cell_type": "code",
      "source": [
        "## Doesn't work in Jupyter\n",
        "from pydub import AudioSegment\n",
        "from pydub.playback import play"
      ],
      "metadata": {
        "id": "YA8LcNHCxApx"
      },
      "execution_count": 8,
      "outputs": []
    },
    {
      "cell_type": "code",
      "source": [
        "audio_0 = AudioSegment.from_wav(curr_dir_files[0])\n",
        "play(audio_0)"
      ],
      "metadata": {
        "id": "IAmypMESxUIN"
      },
      "execution_count": 10,
      "outputs": []
    },
    {
      "cell_type": "markdown",
      "source": [
        "# 3. Plot Waveform"
      ],
      "metadata": {
        "id": "-zcw_Q0AF-fM"
      }
    },
    {
      "cell_type": "code",
      "source": [
        "import librosa\n",
        "import librosa.display\n",
        "import matplotlib.pyplot as plt"
      ],
      "metadata": {
        "id": "5poeikuIHvOx"
      },
      "execution_count": null,
      "outputs": []
    },
    {
      "cell_type": "code",
      "source": [
        "# Load the audio file\n",
        "# audio, sample_rate = librosa.load(curr_dir_files[0], sr=None) # sr=None preserves original sampling rate\n",
        "audio.shape # Mono; Stereo shape is (2, num_samples)"
      ],
      "metadata": {
        "id": "ySGi53AzHs72",
        "outputId": "c429ceb7-0094-4e0e-df3a-750aca3d6ea5",
        "colab": {
          "base_uri": "https://localhost:8080/"
        }
      },
      "execution_count": 12,
      "outputs": [
        {
          "output_type": "execute_result",
          "data": {
            "text/plain": [
              "(262144,)"
            ]
          },
          "metadata": {},
          "execution_count": 12
        }
      ]
    },
    {
      "cell_type": "code",
      "source": [
        "# Plot the waveform\n",
        "plt.figure(figsize=(14, 5))\n",
        "librosa.display.waveshow(audio, sr=sample_rate)\n",
        "plt.title('Waveform')\n",
        "plt.xlabel('Time (s)')\n",
        "plt.ylabel('Amplitude')\n",
        "plt.show()"
      ],
      "metadata": {
        "id": "VEWRlv9sGA4J",
        "outputId": "97319bbc-cbac-44df-954e-d3ba07037582",
        "colab": {
          "base_uri": "https://localhost:8080/",
          "height": 487
        }
      },
      "execution_count": 11,
      "outputs": [
        {
          "output_type": "display_data",
          "data": {
            "text/plain": [
              "<Figure size 1400x500 with 1 Axes>"
            ],
            "image/png": "[encoded data removed]"
          },
          "metadata": {}
        }
      ]
    }
  ]
}