{
  "nbformat": 4,
  "nbformat_minor": 0,
  "metadata": {
    "colab": {
      "provenance": [],
      "authorship_tag": "ABX9TyNu9NQr+TSqe7e6Mm++le/E",
      "include_colab_link": true
    },
    "kernelspec": {
      "name": "python3",
      "display_name": "Python 3"
    },
    "language_info": {
      "name": "python"
    }
  },
  "cells": [
    {
      "cell_type": "markdown",
      "metadata": {
        "id": "view-in-github",
        "colab_type": "text"
      },
      "source": [
        "<a href=\"https://colab.research.google.com/github/xpdlaldam/nlp/blob/master/stemming_and_lemmatization.ipynb\" target=\"_parent\"><img src=\"https://colab.research.google.com/assets/colab-badge.svg\" alt=\"Open In Colab\"/></a>"
      ]
    },
    {
      "cell_type": "code",
      "execution_count": null,
      "metadata": {
        "id": "nLyTnpIZu5C_"
      },
      "outputs": [],
      "source": [
        "### 6/10/2024 13. Stemming & Lemmatization\n",
        "## Stemming is very crude as it just chops off the end of the word => the result is not necessarily a real word ex) better -> better\n",
        "\n",
        "## Lemmatization is more sophisticated as it uses actual rules of language => the true root word will be returned ex) better -> good\n",
        "\n",
        "## Parts-of-Speech (POS) matters as \"going\" can be a noun but when the root form is \"go\" it is not a noun\n",
        "\n",
        "from nltk.stem import WordNetLemmatizer\n",
        "from nltk.corpus import wordnet\n",
        "nltk.download(\"wordnet\")\n",
        "\n",
        "lemmatizer = WordNetLemmatizer()\n",
        "lemmatizer.lemmatize(\"mice\") # returns \"mouse\"\n",
        "\n",
        "lemmatizer.lemmatize(\"going\", pos=wordnet.NOUN) # returns \"going\"\n",
        "lemmatizer.lemmatize(\"going\", pos=wordnet.VERB) # returns 'go'\n",
        "\n",
        "### 6/10/2024 12. Stopwords\n",
        "\n"
      ]
    }
  ]
}